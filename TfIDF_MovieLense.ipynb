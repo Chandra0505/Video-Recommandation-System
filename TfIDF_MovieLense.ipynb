{
  "nbformat": 4,
  "nbformat_minor": 0,
  "metadata": {
    "colab": {
      "name": "TfIDF MovieLense.ipynb",
      "provenance": [],
      "collapsed_sections": [],
      "authorship_tag": "ABX9TyOqYPF650z9JZLhpFqsmDuc",
      "include_colab_link": true
    },
    "kernelspec": {
      "name": "python3",
      "display_name": "Python 3"
    }
  },
  "cells": [
    {
      "cell_type": "markdown",
      "metadata": {
        "id": "view-in-github",
        "colab_type": "text"
      },
      "source": [
        "<a href=\"https://colab.research.google.com/github/Chandra0505/Video-Recommandation-System/blob/Abhijeet/TfIDF_MovieLense.ipynb\" target=\"_parent\"><img src=\"https://colab.research.google.com/assets/colab-badge.svg\" alt=\"Open In Colab\"/></a>"
      ]
    },
    {
      "cell_type": "code",
      "metadata": {
        "id": "o9BcftoBwHPb",
        "colab_type": "code",
        "colab": {
          "base_uri": "https://localhost:8080/",
          "height": 128
        },
        "outputId": "5c387d13-1353-4410-c157-09d66b27e0f4"
      },
      "source": [
        "from google.colab import drive\n",
        "drive.mount('/content/gdrive')"
      ],
      "execution_count": 1,
      "outputs": [
        {
          "output_type": "stream",
          "text": [
            "Go to this URL in a browser: https://accounts.google.com/o/oauth2/auth?client_id=947318989803-6bn6qk8qdgf4n4g3pfee6491hc0brc4i.apps.googleusercontent.com&redirect_uri=urn%3aietf%3awg%3aoauth%3a2.0%3aoob&response_type=code&scope=email%20https%3a%2f%2fwww.googleapis.com%2fauth%2fdocs.test%20https%3a%2f%2fwww.googleapis.com%2fauth%2fdrive%20https%3a%2f%2fwww.googleapis.com%2fauth%2fdrive.photos.readonly%20https%3a%2f%2fwww.googleapis.com%2fauth%2fpeopleapi.readonly\n",
            "\n",
            "Enter your authorization code:\n",
            "··········\n",
            "Mounted at /content/gdrive\n"
          ],
          "name": "stdout"
        }
      ]
    },
    {
      "cell_type": "code",
      "metadata": {
        "id": "f6fPafIewpug",
        "colab_type": "code",
        "colab": {}
      },
      "source": [
        "import numpy as np\n",
        "import pandas as pd\n",
        "import matplotlib.pyplot as plt"
      ],
      "execution_count": 0,
      "outputs": []
    },
    {
      "cell_type": "code",
      "metadata": {
        "id": "pxqFpNtOwzgV",
        "colab_type": "code",
        "colab": {}
      },
      "source": [
        "genome_scores=pd.read_csv(\"/content/gdrive/My Drive/Colab Notebooks/genome-scores.csv\")\n",
        "genome_tags=pd.read_csv(\"/content/gdrive/My Drive/Colab Notebooks/genome-tags.csv\")\n",
        "links=pd.read_csv(\"/content/gdrive/My Drive/Colab Notebooks/links.csv\")\n",
        "movies=pd.read_csv(\"/content/gdrive/My Drive/Colab Notebooks/movies.csv\")\n",
        "ratings=pd.read_csv(\"/content/gdrive/My Drive/Colab Notebooks/ratings.csv\")\n",
        "tags=pd.read_csv(\"/content/gdrive/My Drive/Colab Notebooks/tags.csv\")"
      ],
      "execution_count": 0,
      "outputs": []
    },
    {
      "cell_type": "code",
      "metadata": {
        "id": "mVJkFxWe6Zln",
        "colab_type": "code",
        "colab": {}
      },
      "source": [
        "movies=movies.sample(30000)"
      ],
      "execution_count": 0,
      "outputs": []
    },
    {
      "cell_type": "code",
      "metadata": {
        "id": "Rr8kZ3fjw2AU",
        "colab_type": "code",
        "colab": {
          "base_uri": "https://localhost:8080/",
          "height": 206
        },
        "outputId": "494ca605-b46a-4ef8-e8c4-bfb666eb6db0"
      },
      "source": [
        "movies.head()\n"
      ],
      "execution_count": 16,
      "outputs": [
        {
          "output_type": "execute_result",
          "data": {
            "text/html": [
              "<div>\n",
              "<style scoped>\n",
              "    .dataframe tbody tr th:only-of-type {\n",
              "        vertical-align: middle;\n",
              "    }\n",
              "\n",
              "    .dataframe tbody tr th {\n",
              "        vertical-align: top;\n",
              "    }\n",
              "\n",
              "    .dataframe thead th {\n",
              "        text-align: right;\n",
              "    }\n",
              "</style>\n",
              "<table border=\"1\" class=\"dataframe\">\n",
              "  <thead>\n",
              "    <tr style=\"text-align: right;\">\n",
              "      <th></th>\n",
              "      <th>movieId</th>\n",
              "      <th>title</th>\n",
              "      <th>genres</th>\n",
              "    </tr>\n",
              "  </thead>\n",
              "  <tbody>\n",
              "    <tr>\n",
              "      <th>30208</th>\n",
              "      <td>135719</td>\n",
              "      <td>Jackson County Jail (1976)</td>\n",
              "      <td>crime drama</td>\n",
              "    </tr>\n",
              "    <tr>\n",
              "      <th>41249</th>\n",
              "      <td>161258</td>\n",
              "      <td>Rampage (1986)</td>\n",
              "      <td>action adventure</td>\n",
              "    </tr>\n",
              "    <tr>\n",
              "      <th>6063</th>\n",
              "      <td>6175</td>\n",
              "      <td>Messenger of Death (1988)</td>\n",
              "      <td>thriller</td>\n",
              "    </tr>\n",
              "    <tr>\n",
              "      <th>18998</th>\n",
              "      <td>99024</td>\n",
              "      <td>Asylum Blackout (2011)</td>\n",
              "      <td>horror thriller</td>\n",
              "    </tr>\n",
              "    <tr>\n",
              "      <th>25424</th>\n",
              "      <td>123703</td>\n",
              "      <td>I Love Melvin (1953)</td>\n",
              "      <td>comedy romance</td>\n",
              "    </tr>\n",
              "  </tbody>\n",
              "</table>\n",
              "</div>"
            ],
            "text/plain": [
              "       movieId                       title            genres\n",
              "30208   135719  Jackson County Jail (1976)       crime drama\n",
              "41249   161258              Rampage (1986)  action adventure\n",
              "6063      6175   Messenger of Death (1988)          thriller\n",
              "18998    99024      Asylum Blackout (2011)   horror thriller\n",
              "25424   123703        I Love Melvin (1953)    comedy romance"
            ]
          },
          "metadata": {
            "tags": []
          },
          "execution_count": 16
        }
      ]
    },
    {
      "cell_type": "code",
      "metadata": {
        "id": "4Szd-JJJycCL",
        "colab_type": "code",
        "colab": {
          "base_uri": "https://localhost:8080/",
          "height": 162
        },
        "outputId": "7a50368f-d193-4fc6-97df-4ab4897329a4"
      },
      "source": [
        "movies.info()"
      ],
      "execution_count": 17,
      "outputs": [
        {
          "output_type": "stream",
          "text": [
            "<class 'pandas.core.frame.DataFrame'>\n",
            "Int64Index: 30000 entries, 30208 to 47\n",
            "Data columns (total 3 columns):\n",
            "movieId    30000 non-null int64\n",
            "title      30000 non-null object\n",
            "genres     30000 non-null object\n",
            "dtypes: int64(1), object(2)\n",
            "memory usage: 937.5+ KB\n"
          ],
          "name": "stdout"
        }
      ]
    },
    {
      "cell_type": "code",
      "metadata": {
        "id": "vueax42GydVb",
        "colab_type": "code",
        "colab": {}
      },
      "source": [
        "movies['genres']=movies['genres'].apply(lambda x:x.lower())"
      ],
      "execution_count": 0,
      "outputs": []
    },
    {
      "cell_type": "code",
      "metadata": {
        "id": "abruHwvCzhtL",
        "colab_type": "code",
        "colab": {
          "base_uri": "https://localhost:8080/",
          "height": 143
        },
        "outputId": "3bcb6d1f-15d7-468b-9e64-c6c398b0cc5b"
      },
      "source": [
        "movies.head(3)"
      ],
      "execution_count": 19,
      "outputs": [
        {
          "output_type": "execute_result",
          "data": {
            "text/html": [
              "<div>\n",
              "<style scoped>\n",
              "    .dataframe tbody tr th:only-of-type {\n",
              "        vertical-align: middle;\n",
              "    }\n",
              "\n",
              "    .dataframe tbody tr th {\n",
              "        vertical-align: top;\n",
              "    }\n",
              "\n",
              "    .dataframe thead th {\n",
              "        text-align: right;\n",
              "    }\n",
              "</style>\n",
              "<table border=\"1\" class=\"dataframe\">\n",
              "  <thead>\n",
              "    <tr style=\"text-align: right;\">\n",
              "      <th></th>\n",
              "      <th>movieId</th>\n",
              "      <th>title</th>\n",
              "      <th>genres</th>\n",
              "    </tr>\n",
              "  </thead>\n",
              "  <tbody>\n",
              "    <tr>\n",
              "      <th>30208</th>\n",
              "      <td>135719</td>\n",
              "      <td>Jackson County Jail (1976)</td>\n",
              "      <td>crime drama</td>\n",
              "    </tr>\n",
              "    <tr>\n",
              "      <th>41249</th>\n",
              "      <td>161258</td>\n",
              "      <td>Rampage (1986)</td>\n",
              "      <td>action adventure</td>\n",
              "    </tr>\n",
              "    <tr>\n",
              "      <th>6063</th>\n",
              "      <td>6175</td>\n",
              "      <td>Messenger of Death (1988)</td>\n",
              "      <td>thriller</td>\n",
              "    </tr>\n",
              "  </tbody>\n",
              "</table>\n",
              "</div>"
            ],
            "text/plain": [
              "       movieId                       title            genres\n",
              "30208   135719  Jackson County Jail (1976)       crime drama\n",
              "41249   161258              Rampage (1986)  action adventure\n",
              "6063      6175   Messenger of Death (1988)          thriller"
            ]
          },
          "metadata": {
            "tags": []
          },
          "execution_count": 19
        }
      ]
    },
    {
      "cell_type": "code",
      "metadata": {
        "id": "I_NXaPMtzmRK",
        "colab_type": "code",
        "colab": {}
      },
      "source": [
        "movies['genres']=movies['genres'].apply(lambda x:x.split(\"|\"))\n",
        "movies['genres']=movies['genres'].apply(lambda x:' '.join(x))"
      ],
      "execution_count": 0,
      "outputs": []
    },
    {
      "cell_type": "code",
      "metadata": {
        "id": "e3lShD1u12PV",
        "colab_type": "code",
        "colab": {
          "base_uri": "https://localhost:8080/",
          "height": 143
        },
        "outputId": "b6d9ca64-c442-4589-9900-4cf0942a72e0"
      },
      "source": [
        "movies.head(3)"
      ],
      "execution_count": 21,
      "outputs": [
        {
          "output_type": "execute_result",
          "data": {
            "text/html": [
              "<div>\n",
              "<style scoped>\n",
              "    .dataframe tbody tr th:only-of-type {\n",
              "        vertical-align: middle;\n",
              "    }\n",
              "\n",
              "    .dataframe tbody tr th {\n",
              "        vertical-align: top;\n",
              "    }\n",
              "\n",
              "    .dataframe thead th {\n",
              "        text-align: right;\n",
              "    }\n",
              "</style>\n",
              "<table border=\"1\" class=\"dataframe\">\n",
              "  <thead>\n",
              "    <tr style=\"text-align: right;\">\n",
              "      <th></th>\n",
              "      <th>movieId</th>\n",
              "      <th>title</th>\n",
              "      <th>genres</th>\n",
              "    </tr>\n",
              "  </thead>\n",
              "  <tbody>\n",
              "    <tr>\n",
              "      <th>30208</th>\n",
              "      <td>135719</td>\n",
              "      <td>Jackson County Jail (1976)</td>\n",
              "      <td>crime drama</td>\n",
              "    </tr>\n",
              "    <tr>\n",
              "      <th>41249</th>\n",
              "      <td>161258</td>\n",
              "      <td>Rampage (1986)</td>\n",
              "      <td>action adventure</td>\n",
              "    </tr>\n",
              "    <tr>\n",
              "      <th>6063</th>\n",
              "      <td>6175</td>\n",
              "      <td>Messenger of Death (1988)</td>\n",
              "      <td>thriller</td>\n",
              "    </tr>\n",
              "  </tbody>\n",
              "</table>\n",
              "</div>"
            ],
            "text/plain": [
              "       movieId                       title            genres\n",
              "30208   135719  Jackson County Jail (1976)       crime drama\n",
              "41249   161258              Rampage (1986)  action adventure\n",
              "6063      6175   Messenger of Death (1988)          thriller"
            ]
          },
          "metadata": {
            "tags": []
          },
          "execution_count": 21
        }
      ]
    },
    {
      "cell_type": "code",
      "metadata": {
        "id": "QxYxcjhX0ibi",
        "colab_type": "code",
        "colab": {}
      },
      "source": [
        "from sklearn.feature_extraction.text import TfidfVectorizer"
      ],
      "execution_count": 0,
      "outputs": []
    },
    {
      "cell_type": "code",
      "metadata": {
        "id": "S_uZ32sD1NHJ",
        "colab_type": "code",
        "colab": {}
      },
      "source": [
        "tfidf = TfidfVectorizer(stop_words='english')\n",
        "tfidf_matrix = tfidf.fit_transform(movies['genres'])"
      ],
      "execution_count": 0,
      "outputs": []
    },
    {
      "cell_type": "code",
      "metadata": {
        "id": "tQGT3sQ034DC",
        "colab_type": "code",
        "colab": {}
      },
      "source": [
        "from sklearn.metrics.pairwise import linear_kernel\n",
        "cosine_sim = linear_kernel(tfidf_matrix, tfidf_matrix)"
      ],
      "execution_count": 0,
      "outputs": []
    },
    {
      "cell_type": "code",
      "metadata": {
        "id": "lO-QzX4D4rHg",
        "colab_type": "code",
        "colab": {}
      },
      "source": [
        "# Build a 1-dimensional array with movie titles\n",
        "titles = movies['title']\n",
        "indices = pd.Series(movies.index, index=movies['title'])\n",
        "\n",
        "# Function that get movie recommendations based on the cosine similarity score of movie genres\n",
        "def genre_recommendations(title):\n",
        "    idx = indices[title]\n",
        "    sim_scores = list(enumerate(cosine_sim[idx]))\n",
        "    sim_scores = sorted(sim_scores, key=lambda x: x[1], reverse=True)\n",
        "    sim_scores = sim_scores[1:21]\n",
        "    movie_indices = [i[0] for i in sim_scores]\n",
        "    return titles.iloc[movie_indices]"
      ],
      "execution_count": 0,
      "outputs": []
    },
    {
      "cell_type": "code",
      "metadata": {
        "id": "jTdzV_kc5Ca4",
        "colab_type": "code",
        "colab": {
          "base_uri": "https://localhost:8080/",
          "height": 399
        },
        "outputId": "56b2a4fa-a9d5-40d7-f9b8-3f10e3406fea"
      },
      "source": [
        "genre_recommendations('Good Will Hunting (1997)').head(20)"
      ],
      "execution_count": 26,
      "outputs": [
        {
          "output_type": "execute_result",
          "data": {
            "text/plain": [
              "10475                          Mozart and the Whale (2005)\n",
              "5695                      Love In the Time of Money (2002)\n",
              "11832                             27 Missing Kisses (2000)\n",
              "44341                               Christmas Angel (2009)\n",
              "33393                                      Jump In! (2007)\n",
              "36266                              Hot Young Bloods (2014)\n",
              "39316                  All The Days Before Tomorrow (2007)\n",
              "12225                        Only Game in Town, The (1970)\n",
              "32416                                     Butterfly (2015)\n",
              "59622                                       It's Us (2016)\n",
              "8361                                   Atalante, L' (1934)\n",
              "26078                         Perfect Understanding (1933)\n",
              "8338                 Golden Age, The (Âge d'Or, L') (1930)\n",
              "53903             Lonely Woman Seeks Life Companion (1986)\n",
              "22703                                    Chatterbox (1936)\n",
              "4359                        Accidental Tourist, The (1988)\n",
              "16698    Four Adventures of Reinette and Mirabelle (4 a...\n",
              "19268                                       Sundome (2007)\n",
              "4435          Satisfaction (a.k.a. Girls of Summer) (1988)\n",
              "41141                                    Crazy Eyes (2012)\n",
              "Name: title, dtype: object"
            ]
          },
          "metadata": {
            "tags": []
          },
          "execution_count": 26
        }
      ]
    },
    {
      "cell_type": "code",
      "metadata": {
        "id": "30_6VFzc6RVb",
        "colab_type": "code",
        "colab": {}
      },
      "source": [
        ""
      ],
      "execution_count": 0,
      "outputs": []
    }
  ]
}