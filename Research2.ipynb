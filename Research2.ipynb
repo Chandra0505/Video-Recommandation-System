{
  "nbformat": 4,
  "nbformat_minor": 0,
  "metadata": {
    "colab": {
      "name": "Research2.ipynb",
      "provenance": [],
      "collapsed_sections": [],
      "machine_shape": "hm",
      "authorship_tag": "ABX9TyNFIv1Ec63aZ29eD3WQegq7",
      "include_colab_link": true
    },
    "kernelspec": {
      "name": "python3",
      "display_name": "Python 3"
    }
  },
  "cells": [
    {
      "cell_type": "markdown",
      "metadata": {
        "id": "view-in-github",
        "colab_type": "text"
      },
      "source": [
        "<a href=\"https://colab.research.google.com/github/Chandra0505/Video-Recommandation-System/blob/Abhijeet/Research2.ipynb\" target=\"_parent\"><img src=\"https://colab.research.google.com/assets/colab-badge.svg\" alt=\"Open In Colab\"/></a>"
      ]
    },
    {
      "cell_type": "code",
      "metadata": {
        "id": "UMXLFABcv6Q-",
        "colab_type": "code",
        "colab": {
          "base_uri": "https://localhost:8080/",
          "height": 128
        },
        "outputId": "ef330d41-8e82-4b02-e553-66e6022153e2"
      },
      "source": [
        "from google.colab import drive\n",
        "drive.mount('/content/gdrive')"
      ],
      "execution_count": 1,
      "outputs": [
        {
          "output_type": "stream",
          "text": [
            "Go to this URL in a browser: https://accounts.google.com/o/oauth2/auth?client_id=947318989803-6bn6qk8qdgf4n4g3pfee6491hc0brc4i.apps.googleusercontent.com&redirect_uri=urn%3aietf%3awg%3aoauth%3a2.0%3aoob&response_type=code&scope=email%20https%3a%2f%2fwww.googleapis.com%2fauth%2fdocs.test%20https%3a%2f%2fwww.googleapis.com%2fauth%2fdrive%20https%3a%2f%2fwww.googleapis.com%2fauth%2fdrive.photos.readonly%20https%3a%2f%2fwww.googleapis.com%2fauth%2fpeopleapi.readonly\n",
            "\n",
            "Enter your authorization code:\n",
            "··········\n",
            "Mounted at /content/gdrive\n"
          ],
          "name": "stdout"
        }
      ]
    },
    {
      "cell_type": "code",
      "metadata": {
        "id": "H2kU2l1vy5vU",
        "colab_type": "code",
        "colab": {}
      },
      "source": [
        "import numpy as np\n",
        "import pandas as pd\n",
        "import matplotlib.pyplot as plt "
      ],
      "execution_count": 0,
      "outputs": []
    },
    {
      "cell_type": "code",
      "metadata": {
        "id": "x8D_JxaKzMBI",
        "colab_type": "code",
        "colab": {}
      },
      "source": [
        "genome_scores=pd.read_csv(\"/content/gdrive/My Drive/Colab Notebooks/genome-scores.csv\")\n",
        "genome_tags=pd.read_csv(\"/content/gdrive/My Drive/Colab Notebooks/genome-tags.csv\")\n",
        "links=pd.read_csv(\"/content/gdrive/My Drive/Colab Notebooks/links.csv\")\n",
        "movies=pd.read_csv(\"/content/gdrive/My Drive/Colab Notebooks/movies.csv\")\n",
        "ratings=pd.read_csv(\"/content/gdrive/My Drive/Colab Notebooks/ratings.csv\")\n",
        "tags=pd.read_csv(\"/content/gdrive/My Drive/Colab Notebooks/tags.csv\")"
      ],
      "execution_count": 0,
      "outputs": []
    },
    {
      "cell_type": "markdown",
      "metadata": {
        "id": "bVPh0fVwI1nz",
        "colab_type": "text"
      },
      "source": [
        "https://blog.codecentric.de/en/2019/07/recommender-system-movie-lens-dataset/"
      ]
    },
    {
      "cell_type": "code",
      "metadata": {
        "id": "lsx58rcaDmFh",
        "colab_type": "code",
        "colab": {}
      },
      "source": [
        "movies.tail()\n",
        "movies['genres'] = movies['genres'].str.replace('|',' ')"
      ],
      "execution_count": 0,
      "outputs": []
    },
    {
      "cell_type": "code",
      "metadata": {
        "id": "l00BP-cmI7MY",
        "colab_type": "code",
        "colab": {
          "base_uri": "https://localhost:8080/",
          "height": 35
        },
        "outputId": "36516ad9-ab87-4366-fff6-a3f1688d800e"
      },
      "source": [
        "len(movies.movieId.unique())"
      ],
      "execution_count": 4,
      "outputs": [
        {
          "output_type": "execute_result",
          "data": {
            "text/plain": [
              "62423"
            ]
          },
          "metadata": {
            "tags": []
          },
          "execution_count": 4
        }
      ]
    },
    {
      "cell_type": "code",
      "metadata": {
        "id": "zhjMelRZI-0j",
        "colab_type": "code",
        "colab": {
          "base_uri": "https://localhost:8080/",
          "height": 35
        },
        "outputId": "32a936c9-eae9-4a16-cb5f-6956fbf796ae"
      },
      "source": [
        "len(ratings.movieId.unique())"
      ],
      "execution_count": 5,
      "outputs": [
        {
          "output_type": "execute_result",
          "data": {
            "text/plain": [
              "59047"
            ]
          },
          "metadata": {
            "tags": []
          },
          "execution_count": 5
        }
      ]
    },
    {
      "cell_type": "code",
      "metadata": {
        "id": "ceQenQ69JBlJ",
        "colab_type": "code",
        "colab": {}
      },
      "source": [
        "#limit ratings to user ratings that have rated more that 55 movies -- \n",
        "#Otherwise it becomes impossible to pivot the rating dataframe later for collaborative filtering.\n",
        "\n",
        "ratings_f = ratings.groupby('userId').filter(lambda x: len(x) >= 55)\n",
        "ratings_f=ratings_f.sample(n=100000,random_state=5)\n",
        "\n",
        "# list the movie titles that survive the filtering\n",
        "movie_list_rating = ratings_f.movieId.unique().tolist()"
      ],
      "execution_count": 0,
      "outputs": []
    },
    {
      "cell_type": "code",
      "metadata": {
        "id": "msuUHi60JXXq",
        "colab_type": "code",
        "colab": {}
      },
      "source": [
        "#filter the movies data frame\n",
        "movies = movies[movies.movieId.isin(movie_list_rating)]"
      ],
      "execution_count": 0,
      "outputs": []
    },
    {
      "cell_type": "code",
      "metadata": {
        "id": "p1Gv0XIrJc4K",
        "colab_type": "code",
        "colab": {
          "base_uri": "https://localhost:8080/",
          "height": 143
        },
        "outputId": "cc7b68a6-7f25-489d-8975-a6fe14af1f85"
      },
      "source": [
        "movies.head(3)"
      ],
      "execution_count": 8,
      "outputs": [
        {
          "output_type": "execute_result",
          "data": {
            "text/html": [
              "<div>\n",
              "<style scoped>\n",
              "    .dataframe tbody tr th:only-of-type {\n",
              "        vertical-align: middle;\n",
              "    }\n",
              "\n",
              "    .dataframe tbody tr th {\n",
              "        vertical-align: top;\n",
              "    }\n",
              "\n",
              "    .dataframe thead th {\n",
              "        text-align: right;\n",
              "    }\n",
              "</style>\n",
              "<table border=\"1\" class=\"dataframe\">\n",
              "  <thead>\n",
              "    <tr style=\"text-align: right;\">\n",
              "      <th></th>\n",
              "      <th>movieId</th>\n",
              "      <th>title</th>\n",
              "      <th>genres</th>\n",
              "    </tr>\n",
              "  </thead>\n",
              "  <tbody>\n",
              "    <tr>\n",
              "      <th>0</th>\n",
              "      <td>1</td>\n",
              "      <td>Toy Story (1995)</td>\n",
              "      <td>Adventure Animation Children Comedy Fantasy</td>\n",
              "    </tr>\n",
              "    <tr>\n",
              "      <th>1</th>\n",
              "      <td>2</td>\n",
              "      <td>Jumanji (1995)</td>\n",
              "      <td>Adventure Children Fantasy</td>\n",
              "    </tr>\n",
              "    <tr>\n",
              "      <th>2</th>\n",
              "      <td>3</td>\n",
              "      <td>Grumpier Old Men (1995)</td>\n",
              "      <td>Comedy Romance</td>\n",
              "    </tr>\n",
              "  </tbody>\n",
              "</table>\n",
              "</div>"
            ],
            "text/plain": [
              "   movieId  ...                                       genres\n",
              "0        1  ...  Adventure Animation Children Comedy Fantasy\n",
              "1        2  ...                   Adventure Children Fantasy\n",
              "2        3  ...                               Comedy Romance\n",
              "\n",
              "[3 rows x 3 columns]"
            ]
          },
          "metadata": {
            "tags": []
          },
          "execution_count": 8
        }
      ]
    },
    {
      "cell_type": "code",
      "metadata": {
        "id": "C4RW7t5fJfDQ",
        "colab_type": "code",
        "colab": {}
      },
      "source": [
        "# map movie to id:\n",
        "Mapping_file = dict(zip(movies.title.tolist(), movies.movieId.tolist()))"
      ],
      "execution_count": 0,
      "outputs": []
    },
    {
      "cell_type": "code",
      "metadata": {
        "id": "LAknjE4PJiwx",
        "colab_type": "code",
        "colab": {}
      },
      "source": [
        "tags.drop(['timestamp'],1, inplace=True)\n",
        "ratings_f.drop(['timestamp'],1, inplace=True)"
      ],
      "execution_count": 0,
      "outputs": []
    },
    {
      "cell_type": "code",
      "metadata": {
        "id": "JpxjRQjZJmO5",
        "colab_type": "code",
        "colab": {
          "base_uri": "https://localhost:8080/",
          "height": 143
        },
        "outputId": "3779c06c-1d81-4fca-8980-daf693d87569"
      },
      "source": [
        "# create a mixed dataframe of movies title, genres \n",
        "# and all user tags given to each movie\n",
        "mixed = pd.merge(movies, tags, on='movieId', how='left')\n",
        "mixed.head(3)"
      ],
      "execution_count": 11,
      "outputs": [
        {
          "output_type": "execute_result",
          "data": {
            "text/html": [
              "<div>\n",
              "<style scoped>\n",
              "    .dataframe tbody tr th:only-of-type {\n",
              "        vertical-align: middle;\n",
              "    }\n",
              "\n",
              "    .dataframe tbody tr th {\n",
              "        vertical-align: top;\n",
              "    }\n",
              "\n",
              "    .dataframe thead th {\n",
              "        text-align: right;\n",
              "    }\n",
              "</style>\n",
              "<table border=\"1\" class=\"dataframe\">\n",
              "  <thead>\n",
              "    <tr style=\"text-align: right;\">\n",
              "      <th></th>\n",
              "      <th>movieId</th>\n",
              "      <th>title</th>\n",
              "      <th>genres</th>\n",
              "      <th>userId</th>\n",
              "      <th>tag</th>\n",
              "    </tr>\n",
              "  </thead>\n",
              "  <tbody>\n",
              "    <tr>\n",
              "      <th>0</th>\n",
              "      <td>1</td>\n",
              "      <td>Toy Story (1995)</td>\n",
              "      <td>Adventure Animation Children Comedy Fantasy</td>\n",
              "      <td>791.0</td>\n",
              "      <td>Owned</td>\n",
              "    </tr>\n",
              "    <tr>\n",
              "      <th>1</th>\n",
              "      <td>1</td>\n",
              "      <td>Toy Story (1995)</td>\n",
              "      <td>Adventure Animation Children Comedy Fantasy</td>\n",
              "      <td>1048.0</td>\n",
              "      <td>imdb top 250</td>\n",
              "    </tr>\n",
              "    <tr>\n",
              "      <th>2</th>\n",
              "      <td>1</td>\n",
              "      <td>Toy Story (1995)</td>\n",
              "      <td>Adventure Animation Children Comedy Fantasy</td>\n",
              "      <td>1361.0</td>\n",
              "      <td>Pixar</td>\n",
              "    </tr>\n",
              "  </tbody>\n",
              "</table>\n",
              "</div>"
            ],
            "text/plain": [
              "   movieId             title  ...  userId           tag\n",
              "0        1  Toy Story (1995)  ...   791.0         Owned\n",
              "1        1  Toy Story (1995)  ...  1048.0  imdb top 250\n",
              "2        1  Toy Story (1995)  ...  1361.0         Pixar\n",
              "\n",
              "[3 rows x 5 columns]"
            ]
          },
          "metadata": {
            "tags": []
          },
          "execution_count": 11
        }
      ]
    },
    {
      "cell_type": "code",
      "metadata": {
        "id": "NLqUgpnfJsc5",
        "colab_type": "code",
        "colab": {
          "base_uri": "https://localhost:8080/",
          "height": 143
        },
        "outputId": "ccaa8fd3-5a2c-4338-e1f4-390fdada1d62"
      },
      "source": [
        "# create metadata from tags and genres\n",
        "mixed.fillna(\"\", inplace=True)\n",
        "mixed = pd.DataFrame(mixed.groupby('movieId')['tag'].apply(\n",
        "                                          lambda x: \"%s\" % ' '.join(x)))\n",
        "Final = pd.merge(movies, mixed, on='movieId', how='left')\n",
        "Final ['metadata'] = Final[['tag', 'genres']].apply(\n",
        "                                          lambda x: ' '.join(x), axis = 1)\n",
        "Final[['movieId','title','metadata']].head(3)"
      ],
      "execution_count": 12,
      "outputs": [
        {
          "output_type": "execute_result",
          "data": {
            "text/html": [
              "<div>\n",
              "<style scoped>\n",
              "    .dataframe tbody tr th:only-of-type {\n",
              "        vertical-align: middle;\n",
              "    }\n",
              "\n",
              "    .dataframe tbody tr th {\n",
              "        vertical-align: top;\n",
              "    }\n",
              "\n",
              "    .dataframe thead th {\n",
              "        text-align: right;\n",
              "    }\n",
              "</style>\n",
              "<table border=\"1\" class=\"dataframe\">\n",
              "  <thead>\n",
              "    <tr style=\"text-align: right;\">\n",
              "      <th></th>\n",
              "      <th>movieId</th>\n",
              "      <th>title</th>\n",
              "      <th>metadata</th>\n",
              "    </tr>\n",
              "  </thead>\n",
              "  <tbody>\n",
              "    <tr>\n",
              "      <th>0</th>\n",
              "      <td>1</td>\n",
              "      <td>Toy Story (1995)</td>\n",
              "      <td>Owned imdb top 250 Pixar Pixar time travel chi...</td>\n",
              "    </tr>\n",
              "    <tr>\n",
              "      <th>1</th>\n",
              "      <td>2</td>\n",
              "      <td>Jumanji (1995)</td>\n",
              "      <td>Robin Williams time travel fantasy based on ch...</td>\n",
              "    </tr>\n",
              "    <tr>\n",
              "      <th>2</th>\n",
              "      <td>3</td>\n",
              "      <td>Grumpier Old Men (1995)</td>\n",
              "      <td>funny best friend duringcreditsstinger fishing...</td>\n",
              "    </tr>\n",
              "  </tbody>\n",
              "</table>\n",
              "</div>"
            ],
            "text/plain": [
              "   movieId  ...                                           metadata\n",
              "0        1  ...  Owned imdb top 250 Pixar Pixar time travel chi...\n",
              "1        2  ...  Robin Williams time travel fantasy based on ch...\n",
              "2        3  ...  funny best friend duringcreditsstinger fishing...\n",
              "\n",
              "[3 rows x 3 columns]"
            ]
          },
          "metadata": {
            "tags": []
          },
          "execution_count": 12
        }
      ]
    },
    {
      "cell_type": "code",
      "metadata": {
        "id": "XZ12hfUtJwlo",
        "colab_type": "code",
        "colab": {
          "base_uri": "https://localhost:8080/",
          "height": 35
        },
        "outputId": "d183ceb1-e243-4e57-e537-dd45a3097a12"
      },
      "source": [
        "from sklearn.feature_extraction.text import TfidfVectorizer\n",
        "tfidf = TfidfVectorizer(stop_words='english')\n",
        "tfidf_matrix = tfidf.fit_transform(Final['metadata'])\n",
        "tfidf_df = pd.DataFrame(tfidf_matrix.toarray(), index=Final.index.tolist())\n",
        "print(tfidf_df.shape)"
      ],
      "execution_count": 13,
      "outputs": [
        {
          "output_type": "stream",
          "text": [
            "(10555, 27618)\n"
          ],
          "name": "stdout"
        }
      ]
    },
    {
      "cell_type": "code",
      "metadata": {
        "id": "DokNIX_EJ9oI",
        "colab_type": "code",
        "colab": {
          "base_uri": "https://localhost:8080/",
          "height": 286
        },
        "outputId": "ca3fcd54-05a1-47cd-823a-8e81833046eb"
      },
      "source": [
        "# Compress with SVD\n",
        "from sklearn.decomposition import TruncatedSVD\n",
        "svd = TruncatedSVD(n_components=200)\n",
        "latent_matrix = svd.fit_transform(tfidf_df)\n",
        "# plot var expalined to see what latent dimensions to use\n",
        "explained = svd.explained_variance_ratio_.cumsum()\n",
        "plt.plot(explained, '.-', ms = 16, color='red')\n",
        "plt.xlabel('Singular value components', fontsize= 12)\n",
        "plt.ylabel('Cumulative percent of variance', fontsize=12)        \n",
        "plt.show()"
      ],
      "execution_count": 14,
      "outputs": [
        {
          "output_type": "display_data",
          "data": {
            "image/png": "[encoded data removed]",
            "text/plain": [
              "<Figure size 432x288 with 1 Axes>"
            ]
          },
          "metadata": {
            "tags": []
          }
        }
      ]
    },
    {
      "cell_type": "code",
      "metadata": {
        "id": "7SUBSJQ5KCM6",
        "colab_type": "code",
        "colab": {}
      },
      "source": [
        "#number of latent dimensions to keep\n",
        "n = 200 \n",
        "latent_matrix_1_df = pd.DataFrame(latent_matrix[:,0:n], index=Final.title.tolist())"
      ],
      "execution_count": 0,
      "outputs": []
    },
    {
      "cell_type": "code",
      "metadata": {
        "id": "Lx2g7RwyKXoI",
        "colab_type": "code",
        "colab": {
          "base_uri": "https://localhost:8080/",
          "height": 35
        },
        "outputId": "0c13b7e7-3670-4fe0-d7b2-aeb8d8eefb0f"
      },
      "source": [
        "# our content latent matrix:\n",
        "latent_matrix.shape"
      ],
      "execution_count": 16,
      "outputs": [
        {
          "output_type": "execute_result",
          "data": {
            "text/plain": [
              "(10555, 200)"
            ]
          },
          "metadata": {
            "tags": []
          },
          "execution_count": 16
        }
      ]
    },
    {
      "cell_type": "markdown",
      "metadata": {
        "id": "ro8pRvlzKe0M",
        "colab_type": "text"
      },
      "source": [
        "\n",
        "#### Creating a collaborative latent matrix from user ratings:"
      ]
    },
    {
      "cell_type": "code",
      "metadata": {
        "id": "30gVABIBKbvI",
        "colab_type": "code",
        "colab": {
          "base_uri": "https://localhost:8080/",
          "height": 206
        },
        "outputId": "fb24a19b-fb16-4777-c7b3-b41a1f77ff7d"
      },
      "source": [
        "ratings_f.head()"
      ],
      "execution_count": 17,
      "outputs": [
        {
          "output_type": "execute_result",
          "data": {
            "text/html": [
              "<div>\n",
              "<style scoped>\n",
              "    .dataframe tbody tr th:only-of-type {\n",
              "        vertical-align: middle;\n",
              "    }\n",
              "\n",
              "    .dataframe tbody tr th {\n",
              "        vertical-align: top;\n",
              "    }\n",
              "\n",
              "    .dataframe thead th {\n",
              "        text-align: right;\n",
              "    }\n",
              "</style>\n",
              "<table border=\"1\" class=\"dataframe\">\n",
              "  <thead>\n",
              "    <tr style=\"text-align: right;\">\n",
              "      <th></th>\n",
              "      <th>userId</th>\n",
              "      <th>movieId</th>\n",
              "      <th>rating</th>\n",
              "    </tr>\n",
              "  </thead>\n",
              "  <tbody>\n",
              "    <tr>\n",
              "      <th>20409379</th>\n",
              "      <td>132693</td>\n",
              "      <td>30749</td>\n",
              "      <td>3.5</td>\n",
              "    </tr>\n",
              "    <tr>\n",
              "      <th>3973375</th>\n",
              "      <td>26154</td>\n",
              "      <td>1948</td>\n",
              "      <td>4.0</td>\n",
              "    </tr>\n",
              "    <tr>\n",
              "      <th>16708338</th>\n",
              "      <td>108337</td>\n",
              "      <td>246</td>\n",
              "      <td>5.0</td>\n",
              "    </tr>\n",
              "    <tr>\n",
              "      <th>7548962</th>\n",
              "      <td>49000</td>\n",
              "      <td>4703</td>\n",
              "      <td>5.0</td>\n",
              "    </tr>\n",
              "    <tr>\n",
              "      <th>15909771</th>\n",
              "      <td>103146</td>\n",
              "      <td>2144</td>\n",
              "      <td>3.5</td>\n",
              "    </tr>\n",
              "  </tbody>\n",
              "</table>\n",
              "</div>"
            ],
            "text/plain": [
              "          userId  movieId  rating\n",
              "20409379  132693    30749     3.5\n",
              "3973375    26154     1948     4.0\n",
              "16708338  108337      246     5.0\n",
              "7548962    49000     4703     5.0\n",
              "15909771  103146     2144     3.5"
            ]
          },
          "metadata": {
            "tags": []
          },
          "execution_count": 17
        }
      ]
    },
    {
      "cell_type": "code",
      "metadata": {
        "id": "HDWp8WXNKjbn",
        "colab_type": "code",
        "colab": {
          "base_uri": "https://localhost:8080/",
          "height": 143
        },
        "outputId": "6686681f-e013-49e9-ddff-4af4d8f72472"
      },
      "source": [
        "ratings_f1 = pd.merge(movies[['movieId']], ratings_f, on=\"movieId\", how=\"right\")\n",
        "ratings_f1.head(3)"
      ],
      "execution_count": 18,
      "outputs": [
        {
          "output_type": "execute_result",
          "data": {
            "text/html": [
              "<div>\n",
              "<style scoped>\n",
              "    .dataframe tbody tr th:only-of-type {\n",
              "        vertical-align: middle;\n",
              "    }\n",
              "\n",
              "    .dataframe tbody tr th {\n",
              "        vertical-align: top;\n",
              "    }\n",
              "\n",
              "    .dataframe thead th {\n",
              "        text-align: right;\n",
              "    }\n",
              "</style>\n",
              "<table border=\"1\" class=\"dataframe\">\n",
              "  <thead>\n",
              "    <tr style=\"text-align: right;\">\n",
              "      <th></th>\n",
              "      <th>movieId</th>\n",
              "      <th>userId</th>\n",
              "      <th>rating</th>\n",
              "    </tr>\n",
              "  </thead>\n",
              "  <tbody>\n",
              "    <tr>\n",
              "      <th>0</th>\n",
              "      <td>1</td>\n",
              "      <td>141603</td>\n",
              "      <td>4.0</td>\n",
              "    </tr>\n",
              "    <tr>\n",
              "      <th>1</th>\n",
              "      <td>1</td>\n",
              "      <td>17500</td>\n",
              "      <td>2.0</td>\n",
              "    </tr>\n",
              "    <tr>\n",
              "      <th>2</th>\n",
              "      <td>1</td>\n",
              "      <td>26346</td>\n",
              "      <td>3.0</td>\n",
              "    </tr>\n",
              "  </tbody>\n",
              "</table>\n",
              "</div>"
            ],
            "text/plain": [
              "   movieId  userId  rating\n",
              "0        1  141603     4.0\n",
              "1        1   17500     2.0\n",
              "2        1   26346     3.0"
            ]
          },
          "metadata": {
            "tags": []
          },
          "execution_count": 18
        }
      ]
    },
    {
      "cell_type": "code",
      "metadata": {
        "id": "bp2WcQ-2Kmno",
        "colab_type": "code",
        "colab": {}
      },
      "source": [
        "ratings_f2 = ratings_f1.pivot(index = 'movieId', columns ='userId', values = 'rating').fillna(0)"
      ],
      "execution_count": 0,
      "outputs": []
    },
    {
      "cell_type": "code",
      "metadata": {
        "id": "0GNqQW21KpV7",
        "colab_type": "code",
        "colab": {
          "base_uri": "https://localhost:8080/",
          "height": 35
        },
        "outputId": "ac1e2ef5-cabd-4ebc-8c0a-ba674713348c"
      },
      "source": [
        "len(ratings_f.movieId.unique())"
      ],
      "execution_count": 20,
      "outputs": [
        {
          "output_type": "execute_result",
          "data": {
            "text/plain": [
              "10555"
            ]
          },
          "metadata": {
            "tags": []
          },
          "execution_count": 20
        }
      ]
    },
    {
      "cell_type": "code",
      "metadata": {
        "id": "T5zfBgPRKsm4",
        "colab_type": "code",
        "colab": {}
      },
      "source": [
        "from sklearn.decomposition import TruncatedSVD\n",
        "svd = TruncatedSVD(n_components=200)\n",
        "latent_matrix_2 = svd.fit_transform(ratings_f2)\n",
        "latent_matrix_2_df = pd.DataFrame(\n",
        "                             latent_matrix_2,\n",
        "                             index=Final.title.tolist())"
      ],
      "execution_count": 0,
      "outputs": []
    },
    {
      "cell_type": "code",
      "metadata": {
        "id": "MaBzISHlmP5G",
        "colab_type": "code",
        "colab": {
          "base_uri": "https://localhost:8080/",
          "height": 282
        },
        "outputId": "93fc95b8-b68d-485e-fe67-01a64e57274a"
      },
      "source": [
        "# plot variance expalined to see what latent dimensions to use\n",
        "explained = svd.explained_variance_ratio_.cumsum()\n",
        "plt.plot(explained, '.-', ms = 16, color='red')\n",
        "plt.xlabel('Singular value components', fontsize= 12)\n",
        "plt.ylabel('Cumulative percent of variance', fontsize=12)        \n",
        "plt.show()"
      ],
      "execution_count": 22,
      "outputs": [
        {
          "output_type": "display_data",
          "data": {
            "image/png": "[encoded data removed]",
            "text/plain": [
              "<Figure size 432x288 with 1 Axes>"
            ]
          },
          "metadata": {
            "tags": []
          }
        }
      ]
    },
    {
      "cell_type": "code",
      "metadata": {
        "id": "m-f5ZczPmT-x",
        "colab_type": "code",
        "colab": {
          "base_uri": "https://localhost:8080/",
          "height": 394
        },
        "outputId": "c844121b-e4db-480d-f415-cc38c50ea17a"
      },
      "source": [
        "from sklearn.metrics.pairwise import cosine_similarity\n",
        "# take the latent vectors for a selected movie from both content \n",
        "# and collaborative matrixes\n",
        "a_1 = np.array(latent_matrix_1_df.loc['Strada, La (1954)']).reshape(1, -1)\n",
        "a_2 = np.array(latent_matrix_2_df.loc['Strada, La (1954)']).reshape(1, -1)\n",
        "\n",
        "# calculate the similartity of this movie with the others in the list\n",
        "score_1 = cosine_similarity(latent_matrix_1_df, a_1).reshape(-1)\n",
        "score_2 = cosine_similarity(latent_matrix_2_df, a_2).reshape(-1)\n",
        "\n",
        "# an average measure of both content and collaborative \n",
        "hybrid = ((score_1 + score_2)/2.0)\n",
        "\n",
        "# form a data frame of similar movies \n",
        "dictDf = {'content': score_1 , 'collaborative': score_2, 'hybrid': hybrid} \n",
        "similar = pd.DataFrame(dictDf, index = latent_matrix_1_df.index )\n",
        "\n",
        "#sort it on the basis of either: content, collaborative or hybrid, \n",
        "# here : content\n",
        "similar.sort_values('content', ascending=False, inplace=True)\n",
        "\n",
        "similar[1:].head(11)"
      ],
      "execution_count": 23,
      "outputs": [
        {
          "output_type": "execute_result",
          "data": {
            "text/html": [
              "<div>\n",
              "<style scoped>\n",
              "    .dataframe tbody tr th:only-of-type {\n",
              "        vertical-align: middle;\n",
              "    }\n",
              "\n",
              "    .dataframe tbody tr th {\n",
              "        vertical-align: top;\n",
              "    }\n",
              "\n",
              "    .dataframe thead th {\n",
              "        text-align: right;\n",
              "    }\n",
              "</style>\n",
              "<table border=\"1\" class=\"dataframe\">\n",
              "  <thead>\n",
              "    <tr style=\"text-align: right;\">\n",
              "      <th></th>\n",
              "      <th>content</th>\n",
              "      <th>collaborative</th>\n",
              "      <th>hybrid</th>\n",
              "    </tr>\n",
              "  </thead>\n",
              "  <tbody>\n",
              "    <tr>\n",
              "      <th>Nights of Cabiria (Notti di Cabiria, Le) (1957)</th>\n",
              "      <td>0.695523</td>\n",
              "      <td>0.046135</td>\n",
              "      <td>0.370829</td>\n",
              "    </tr>\n",
              "    <tr>\n",
              "      <th>Mon Oncle (My Uncle) (1958)</th>\n",
              "      <td>0.605792</td>\n",
              "      <td>-0.049632</td>\n",
              "      <td>0.278080</td>\n",
              "    </tr>\n",
              "    <tr>\n",
              "      <th>Day for Night (La Nuit Américaine) (1973)</th>\n",
              "      <td>0.589705</td>\n",
              "      <td>-0.017553</td>\n",
              "      <td>0.286076</td>\n",
              "    </tr>\n",
              "    <tr>\n",
              "      <th>Moscow Does Not Believe in Tears (Moskva slezam ne verit) (1979)</th>\n",
              "      <td>0.581015</td>\n",
              "      <td>0.102627</td>\n",
              "      <td>0.341821</td>\n",
              "    </tr>\n",
              "    <tr>\n",
              "      <th>Cries and Whispers (Viskningar och rop) (1972)</th>\n",
              "      <td>0.566955</td>\n",
              "      <td>-0.059442</td>\n",
              "      <td>0.253757</td>\n",
              "    </tr>\n",
              "    <tr>\n",
              "      <th>Shop on Main Street, The (Obchod na korze) (1965)</th>\n",
              "      <td>0.555529</td>\n",
              "      <td>-0.040633</td>\n",
              "      <td>0.257448</td>\n",
              "    </tr>\n",
              "    <tr>\n",
              "      <th>Fanny and Alexander (Fanny och Alexander) (1982)</th>\n",
              "      <td>0.549880</td>\n",
              "      <td>-0.006912</td>\n",
              "      <td>0.271484</td>\n",
              "    </tr>\n",
              "    <tr>\n",
              "      <th>Kings of the Road (Im Lauf der Zeit) (1976)</th>\n",
              "      <td>0.543375</td>\n",
              "      <td>0.108123</td>\n",
              "      <td>0.325749</td>\n",
              "    </tr>\n",
              "    <tr>\n",
              "      <th>Two-Lane Blacktop (1971)</th>\n",
              "      <td>0.536902</td>\n",
              "      <td>0.020099</td>\n",
              "      <td>0.278500</td>\n",
              "    </tr>\n",
              "    <tr>\n",
              "      <th>Scenes From a Marriage (Scener ur ett äktenskap) (1973)</th>\n",
              "      <td>0.517095</td>\n",
              "      <td>-0.004101</td>\n",
              "      <td>0.256497</td>\n",
              "    </tr>\n",
              "    <tr>\n",
              "      <th>Sansho the Bailiff (Sanshô dayû) (1954)</th>\n",
              "      <td>0.514031</td>\n",
              "      <td>0.036252</td>\n",
              "      <td>0.275142</td>\n",
              "    </tr>\n",
              "  </tbody>\n",
              "</table>\n",
              "</div>"
            ],
            "text/plain": [
              "                                                     content  ...    hybrid\n",
              "Nights of Cabiria (Notti di Cabiria, Le) (1957)     0.695523  ...  0.370829\n",
              "Mon Oncle (My Uncle) (1958)                         0.605792  ...  0.278080\n",
              "Day for Night (La Nuit Américaine) (1973)           0.589705  ...  0.286076\n",
              "Moscow Does Not Believe in Tears (Moskva slezam...  0.581015  ...  0.341821\n",
              "Cries and Whispers (Viskningar och rop) (1972)      0.566955  ...  0.253757\n",
              "Shop on Main Street, The (Obchod na korze) (1965)   0.555529  ...  0.257448\n",
              "Fanny and Alexander (Fanny och Alexander) (1982)    0.549880  ...  0.271484\n",
              "Kings of the Road (Im Lauf der Zeit) (1976)         0.543375  ...  0.325749\n",
              "Two-Lane Blacktop (1971)                            0.536902  ...  0.278500\n",
              "Scenes From a Marriage (Scener ur ett äktenskap...  0.517095  ...  0.256497\n",
              "Sansho the Bailiff (Sanshô dayû) (1954)             0.514031  ...  0.275142\n",
              "\n",
              "[11 rows x 3 columns]"
            ]
          },
          "metadata": {
            "tags": []
          },
          "execution_count": 23
        }
      ]
    },
    {
      "cell_type": "markdown",
      "metadata": {
        "id": "sVTEmEQHolfn",
        "colab_type": "text"
      },
      "source": [
        "### Use matrix factorization model:"
      ]
    },
    {
      "cell_type": "code",
      "metadata": {
        "id": "uNRZIioEmYo9",
        "colab_type": "code",
        "colab": {
          "base_uri": "https://localhost:8080/",
          "height": 126
        },
        "outputId": "135b59cd-0b7e-49a4-c1d3-c6c1735925f9"
      },
      "source": [
        "!pip install surprise"
      ],
      "execution_count": 24,
      "outputs": [
        {
          "output_type": "stream",
          "text": [
            "Requirement already satisfied: surprise in /usr/local/lib/python3.6/dist-packages (0.1)\n",
            "Requirement already satisfied: scikit-surprise in /usr/local/lib/python3.6/dist-packages (from surprise) (1.1.0)\n",
            "Requirement already satisfied: six>=1.10.0 in /usr/local/lib/python3.6/dist-packages (from scikit-surprise->surprise) (1.12.0)\n",
            "Requirement already satisfied: scipy>=1.0.0 in /usr/local/lib/python3.6/dist-packages (from scikit-surprise->surprise) (1.4.1)\n",
            "Requirement already satisfied: numpy>=1.11.2 in /usr/local/lib/python3.6/dist-packages (from scikit-surprise->surprise) (1.17.5)\n",
            "Requirement already satisfied: joblib>=0.11 in /usr/local/lib/python3.6/dist-packages (from scikit-surprise->surprise) (0.14.1)\n"
          ],
          "name": "stdout"
        }
      ]
    },
    {
      "cell_type": "code",
      "metadata": {
        "id": "2EqiQF7sosEI",
        "colab_type": "code",
        "colab": {}
      },
      "source": [
        "from surprise import Dataset, Reader, SVD, accuracy\n",
        "from surprise.model_selection import train_test_split"
      ],
      "execution_count": 0,
      "outputs": []
    },
    {
      "cell_type": "code",
      "metadata": {
        "id": "lptQ5ULCotWC",
        "colab_type": "code",
        "colab": {
          "base_uri": "https://localhost:8080/",
          "height": 53
        },
        "outputId": "f743569f-b2d3-4694-f83e-2547a6849783"
      },
      "source": [
        "# instantiate a reader and read in our rating data\n",
        "reader = Reader(rating_scale=(1, 5))\n",
        "data = Dataset.load_from_df(ratings_f[['userId','movieId','rating']], reader)\n",
        "\n",
        "# train SVD on 75% of known rates\n",
        "trainset, testset = train_test_split(data, test_size=.25)\n",
        "algorithm = SVD()\n",
        "algorithm.fit(trainset)\n",
        "predictions = algorithm.test(testset)\n",
        "\n",
        "# check the accuracy using Root Mean Square Error\n",
        "accuracy.rmse(predictions)"
      ],
      "execution_count": 26,
      "outputs": [
        {
          "output_type": "stream",
          "text": [
            "RMSE: 0.9628\n"
          ],
          "name": "stdout"
        },
        {
          "output_type": "execute_result",
          "data": {
            "text/plain": [
              "0.9628330469737283"
            ]
          },
          "metadata": {
            "tags": []
          },
          "execution_count": 26
        }
      ]
    },
    {
      "cell_type": "code",
      "metadata": {
        "id": "YHAH-9f9owhR",
        "colab_type": "code",
        "colab": {}
      },
      "source": [
        "def pred_user_rating(ui):\n",
        "    if ui in ratings_f.userId.unique():\n",
        "        ui_list = ratings_f[ratings_f.userId == ui].movieId.tolist()\n",
        "        d = {k: v for k,v in Mapping_file.items() if not v in ui_list}        \n",
        "        predictedL = []\n",
        "        for i, j in d.items():     \n",
        "            predicted = algorithm.predict(ui, j)\n",
        "            predictedL.append((i, predicted[3])) \n",
        "        pdf = pd.DataFrame(predictedL, columns = ['movies', 'ratings'])\n",
        "        pdf.sort_values('ratings', ascending=False, inplace=True)  \n",
        "        pdf.set_index('movies', inplace=True)    \n",
        "        return pdf.head(10)        \n",
        "    else:\n",
        "        print(\"User Id does not exist in the list!\")\n",
        "        return None"
      ],
      "execution_count": 0,
      "outputs": []
    },
    {
      "cell_type": "code",
      "metadata": {
        "id": "fJnqPInJpDgE",
        "colab_type": "code",
        "colab": {
          "base_uri": "https://localhost:8080/",
          "height": 206
        },
        "outputId": "df963ff7-a409-4c69-e52f-13f8c7d9eec7"
      },
      "source": [
        "ratings_f.head()"
      ],
      "execution_count": 31,
      "outputs": [
        {
          "output_type": "execute_result",
          "data": {
            "text/html": [
              "<div>\n",
              "<style scoped>\n",
              "    .dataframe tbody tr th:only-of-type {\n",
              "        vertical-align: middle;\n",
              "    }\n",
              "\n",
              "    .dataframe tbody tr th {\n",
              "        vertical-align: top;\n",
              "    }\n",
              "\n",
              "    .dataframe thead th {\n",
              "        text-align: right;\n",
              "    }\n",
              "</style>\n",
              "<table border=\"1\" class=\"dataframe\">\n",
              "  <thead>\n",
              "    <tr style=\"text-align: right;\">\n",
              "      <th></th>\n",
              "      <th>userId</th>\n",
              "      <th>movieId</th>\n",
              "      <th>rating</th>\n",
              "    </tr>\n",
              "  </thead>\n",
              "  <tbody>\n",
              "    <tr>\n",
              "      <th>20409379</th>\n",
              "      <td>132693</td>\n",
              "      <td>30749</td>\n",
              "      <td>3.5</td>\n",
              "    </tr>\n",
              "    <tr>\n",
              "      <th>3973375</th>\n",
              "      <td>26154</td>\n",
              "      <td>1948</td>\n",
              "      <td>4.0</td>\n",
              "    </tr>\n",
              "    <tr>\n",
              "      <th>16708338</th>\n",
              "      <td>108337</td>\n",
              "      <td>246</td>\n",
              "      <td>5.0</td>\n",
              "    </tr>\n",
              "    <tr>\n",
              "      <th>7548962</th>\n",
              "      <td>49000</td>\n",
              "      <td>4703</td>\n",
              "      <td>5.0</td>\n",
              "    </tr>\n",
              "    <tr>\n",
              "      <th>15909771</th>\n",
              "      <td>103146</td>\n",
              "      <td>2144</td>\n",
              "      <td>3.5</td>\n",
              "    </tr>\n",
              "  </tbody>\n",
              "</table>\n",
              "</div>"
            ],
            "text/plain": [
              "          userId  movieId  rating\n",
              "20409379  132693    30749     3.5\n",
              "3973375    26154     1948     4.0\n",
              "16708338  108337      246     5.0\n",
              "7548962    49000     4703     5.0\n",
              "15909771  103146     2144     3.5"
            ]
          },
          "metadata": {
            "tags": []
          },
          "execution_count": 31
        }
      ]
    },
    {
      "cell_type": "code",
      "metadata": {
        "id": "S-T0vImDo5Lo",
        "colab_type": "code",
        "colab": {
          "base_uri": "https://localhost:8080/",
          "height": 394
        },
        "outputId": "bb7ddad2-ef6b-48e9-f541-bb9e7dbcd7e6"
      },
      "source": [
        "user_id = 26154\n",
        "pred_user_rating(user_id)"
      ],
      "execution_count": 32,
      "outputs": [
        {
          "output_type": "execute_result",
          "data": {
            "text/html": [
              "<div>\n",
              "<style scoped>\n",
              "    .dataframe tbody tr th:only-of-type {\n",
              "        vertical-align: middle;\n",
              "    }\n",
              "\n",
              "    .dataframe tbody tr th {\n",
              "        vertical-align: top;\n",
              "    }\n",
              "\n",
              "    .dataframe thead th {\n",
              "        text-align: right;\n",
              "    }\n",
              "</style>\n",
              "<table border=\"1\" class=\"dataframe\">\n",
              "  <thead>\n",
              "    <tr style=\"text-align: right;\">\n",
              "      <th></th>\n",
              "      <th>ratings</th>\n",
              "    </tr>\n",
              "    <tr>\n",
              "      <th>movies</th>\n",
              "      <th></th>\n",
              "    </tr>\n",
              "  </thead>\n",
              "  <tbody>\n",
              "    <tr>\n",
              "      <th>Rear Window (1954)</th>\n",
              "      <td>4.385030</td>\n",
              "    </tr>\n",
              "    <tr>\n",
              "      <th>Godfather, The (1972)</th>\n",
              "      <td>4.363765</td>\n",
              "    </tr>\n",
              "    <tr>\n",
              "      <th>Shawshank Redemption, The (1994)</th>\n",
              "      <td>4.341305</td>\n",
              "    </tr>\n",
              "    <tr>\n",
              "      <th>Adventures of Robin Hood, The (1938)</th>\n",
              "      <td>4.309794</td>\n",
              "    </tr>\n",
              "    <tr>\n",
              "      <th>Casablanca (1942)</th>\n",
              "      <td>4.274405</td>\n",
              "    </tr>\n",
              "    <tr>\n",
              "      <th>Room with a View, A (1986)</th>\n",
              "      <td>4.262384</td>\n",
              "    </tr>\n",
              "    <tr>\n",
              "      <th>Cool Hand Luke (1967)</th>\n",
              "      <td>4.253784</td>\n",
              "    </tr>\n",
              "    <tr>\n",
              "      <th>City Lights (1931)</th>\n",
              "      <td>4.251804</td>\n",
              "    </tr>\n",
              "    <tr>\n",
              "      <th>His Girl Friday (1940)</th>\n",
              "      <td>4.245580</td>\n",
              "    </tr>\n",
              "    <tr>\n",
              "      <th>Matrix, The (1999)</th>\n",
              "      <td>4.231744</td>\n",
              "    </tr>\n",
              "  </tbody>\n",
              "</table>\n",
              "</div>"
            ],
            "text/plain": [
              "                                       ratings\n",
              "movies                                        \n",
              "Rear Window (1954)                    4.385030\n",
              "Godfather, The (1972)                 4.363765\n",
              "Shawshank Redemption, The (1994)      4.341305\n",
              "Adventures of Robin Hood, The (1938)  4.309794\n",
              "Casablanca (1942)                     4.274405\n",
              "Room with a View, A (1986)            4.262384\n",
              "Cool Hand Luke (1967)                 4.253784\n",
              "City Lights (1931)                    4.251804\n",
              "His Girl Friday (1940)                4.245580\n",
              "Matrix, The (1999)                    4.231744"
            ]
          },
          "metadata": {
            "tags": []
          },
          "execution_count": 32
        }
      ]
    },
    {
      "cell_type": "code",
      "metadata": {
        "id": "qwTzoc0_o9k5",
        "colab_type": "code",
        "colab": {}
      },
      "source": [
        ""
      ],
      "execution_count": 0,
      "outputs": []
    }
  ]
}